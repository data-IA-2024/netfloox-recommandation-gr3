{
 "cells": [
  {
   "cell_type": "code",
   "execution_count": 6,
   "id": "779f7995-6cd6-4756-88b2-fe858dd5bfa4",
   "metadata": {},
   "outputs": [],
   "source": [
    "import pandas as pd\n",
    "import numpy as np\n",
    "from collections import Counter\n",
    "import plotly.express as px\n",
    "import missingno as msno"
   ]
  },
  {
   "cell_type": "code",
   "execution_count": 7,
   "id": "2a0f81ff-50bb-4ab7-9c2b-06ed296e4dda",
   "metadata": {},
   "outputs": [],
   "source": [
    "datafolder = '../data/data-10k/'"
   ]
  },
  {
   "cell_type": "code",
   "execution_count": 8,
   "id": "5b9fc5e2-5dd1-4e90-bd09-aec5e5deaf73",
   "metadata": {},
   "outputs": [],
   "source": [
    "titlebasics= 'title.basics-10k.tsv'"
   ]
  },
  {
   "cell_type": "code",
   "execution_count": 9,
   "id": "e913d31b-f152-4e6f-983a-d91d1bc0fdd6",
   "metadata": {},
   "outputs": [],
   "source": [
    "df= pd.read_csv(datafolder + titlebasics, sep='\\t', quoting = 3)"
   ]
  },
  {
   "cell_type": "code",
   "execution_count": 10,
   "id": "485e42d4-fd0c-497e-ae9d-2bc60bda1399",
   "metadata": {},
   "outputs": [
    {
     "data": {
      "text/html": [
       "<div>\n",
       "<style scoped>\n",
       "    .dataframe tbody tr th:only-of-type {\n",
       "        vertical-align: middle;\n",
       "    }\n",
       "\n",
       "    .dataframe tbody tr th {\n",
       "        vertical-align: top;\n",
       "    }\n",
       "\n",
       "    .dataframe thead th {\n",
       "        text-align: right;\n",
       "    }\n",
       "</style>\n",
       "<table border=\"1\" class=\"dataframe\">\n",
       "  <thead>\n",
       "    <tr style=\"text-align: right;\">\n",
       "      <th></th>\n",
       "      <th>tconst</th>\n",
       "      <th>titleType</th>\n",
       "      <th>primaryTitle</th>\n",
       "      <th>originalTitle</th>\n",
       "      <th>isAdult</th>\n",
       "      <th>startYear</th>\n",
       "      <th>endYear</th>\n",
       "      <th>runtimeMinutes</th>\n",
       "      <th>genres</th>\n",
       "    </tr>\n",
       "  </thead>\n",
       "  <tbody>\n",
       "    <tr>\n",
       "      <th>0</th>\n",
       "      <td>tt0000001</td>\n",
       "      <td>short</td>\n",
       "      <td>Carmencita</td>\n",
       "      <td>Carmencita</td>\n",
       "      <td>0</td>\n",
       "      <td>1894</td>\n",
       "      <td>\\N</td>\n",
       "      <td>1</td>\n",
       "      <td>Documentary,Short</td>\n",
       "    </tr>\n",
       "    <tr>\n",
       "      <th>1</th>\n",
       "      <td>tt0000002</td>\n",
       "      <td>short</td>\n",
       "      <td>Le clown et ses chiens</td>\n",
       "      <td>Le clown et ses chiens</td>\n",
       "      <td>0</td>\n",
       "      <td>1892</td>\n",
       "      <td>\\N</td>\n",
       "      <td>5</td>\n",
       "      <td>Animation,Short</td>\n",
       "    </tr>\n",
       "    <tr>\n",
       "      <th>2</th>\n",
       "      <td>tt0000003</td>\n",
       "      <td>short</td>\n",
       "      <td>Poor Pierrot</td>\n",
       "      <td>Pauvre Pierrot</td>\n",
       "      <td>0</td>\n",
       "      <td>1892</td>\n",
       "      <td>\\N</td>\n",
       "      <td>5</td>\n",
       "      <td>Animation,Comedy,Romance</td>\n",
       "    </tr>\n",
       "    <tr>\n",
       "      <th>3</th>\n",
       "      <td>tt0000004</td>\n",
       "      <td>short</td>\n",
       "      <td>Un bon bock</td>\n",
       "      <td>Un bon bock</td>\n",
       "      <td>0</td>\n",
       "      <td>1892</td>\n",
       "      <td>\\N</td>\n",
       "      <td>12</td>\n",
       "      <td>Animation,Short</td>\n",
       "    </tr>\n",
       "    <tr>\n",
       "      <th>4</th>\n",
       "      <td>tt0000005</td>\n",
       "      <td>short</td>\n",
       "      <td>Blacksmith Scene</td>\n",
       "      <td>Blacksmith Scene</td>\n",
       "      <td>0</td>\n",
       "      <td>1893</td>\n",
       "      <td>\\N</td>\n",
       "      <td>1</td>\n",
       "      <td>Short</td>\n",
       "    </tr>\n",
       "  </tbody>\n",
       "</table>\n",
       "</div>"
      ],
      "text/plain": [
       "      tconst titleType            primaryTitle           originalTitle  \\\n",
       "0  tt0000001     short              Carmencita              Carmencita   \n",
       "1  tt0000002     short  Le clown et ses chiens  Le clown et ses chiens   \n",
       "2  tt0000003     short            Poor Pierrot          Pauvre Pierrot   \n",
       "3  tt0000004     short             Un bon bock             Un bon bock   \n",
       "4  tt0000005     short        Blacksmith Scene        Blacksmith Scene   \n",
       "\n",
       "   isAdult startYear endYear runtimeMinutes                    genres  \n",
       "0        0      1894      \\N              1         Documentary,Short  \n",
       "1        0      1892      \\N              5           Animation,Short  \n",
       "2        0      1892      \\N              5  Animation,Comedy,Romance  \n",
       "3        0      1892      \\N             12           Animation,Short  \n",
       "4        0      1893      \\N              1                     Short  "
      ]
     },
     "execution_count": 10,
     "metadata": {},
     "output_type": "execute_result"
    }
   ],
   "source": [
    "from unidecode import unidecode\n",
    "\n",
    "for col in df.columns :\n",
    "    df[\"primaryTitle\"] = df[\"primaryTitle\"].apply(lambda x: unidecode(x))\n",
    "    df[\"originalTitle\"] = df[\"originalTitle\"].apply(lambda x: unidecode(x))\n",
    "    df[\"genres\"] = df[\"genres\"].apply(lambda x: unidecode(x))\n",
    "\n",
    "df.head()"
   ]
  },
  {
   "cell_type": "code",
   "execution_count": 29,
   "id": "4fb02b8d-dc23-4e46-b018-7d897748f0bf",
   "metadata": {},
   "outputs": [],
   "source": [
    "df_null = df.replace(r\"\\N\", None ) "
   ]
  },
  {
   "cell_type": "code",
   "execution_count": 31,
   "id": "e7020afc-ae18-41d1-b7d6-8fe72a88200f",
   "metadata": {},
   "outputs": [
    {
     "data": {
      "text/plain": [
       "<Axes: >"
      ]
     },
     "execution_count": 31,
     "metadata": {},
     "output_type": "execute_result"
    },
    {
     "data": {
      "image/png": "[encoded data removed]",
      "text/plain": [
       "<Figure size 2500x1000 with 2 Axes>"
      ]
     },
     "metadata": {},
     "output_type": "display_data"
    }
   ],
   "source": [
    "import missingno as msno\n",
    "msno.matrix(df_null)"
   ]
  },
  {
   "cell_type": "code",
   "execution_count": 11,
   "id": "5073ea42-a657-44b0-b550-6a3ccaccfa9e",
   "metadata": {},
   "outputs": [
    {
     "data": {
      "text/plain": [
       "9999"
      ]
     },
     "execution_count": 11,
     "metadata": {},
     "output_type": "execute_result"
    }
   ],
   "source": [
    "df[\"tconst\"].nunique()"
   ]
  },
  {
   "cell_type": "code",
   "execution_count": 12,
   "id": "ffc034f3-f675-4b8f-9406-34c83e1d94ec",
   "metadata": {},
   "outputs": [
    {
     "data": {
      "text/plain": [
       "titleType\n",
       "short    0.579358\n",
       "movie    0.420642\n",
       "Name: proportion, dtype: float64"
      ]
     },
     "execution_count": 12,
     "metadata": {},
     "output_type": "execute_result"
    }
   ],
   "source": [
    "df[\"titleType\"].value_counts(normalize=True)\n"
   ]
  },
  {
   "cell_type": "code",
   "execution_count": 32,
   "id": "646c8b4d-a488-4b10-b2a7-cbd1fef3f442",
   "metadata": {
    "scrolled": true
   },
   "outputs": [
    {
     "data": {
      "application/vnd.plotly.v1+json": {
       "config": {
        "plotlyServerURL": "https://plot.ly"
       },
       "data": [
        {
         "domain": {
          "x": [
           0,
           1
          ],
          "y": [
           0,
           1
          ]
         },
         "hovertemplate": "titleType=%{label}<br>proportion=%{value}<extra></extra>",
         "labels": [
          "short",
          "movie"
         ],
         "legendgroup": "",
         "name": "",
         "showlegend": true,
         "type": "pie",
         "values": [
          0.579358,
          0.420642
         ]
        }
       ],
       "layout": {
        "legend": {
         "tracegroupgap": 0
        },
        "template": {
         "data": {
          "bar": [
           {
            "error_x": {
             "color": "#2a3f5f"
            },
            "error_y": {
             "color": "#2a3f5f"
            },
            "marker": {
             "line": {
              "color": "#E5ECF6",
              "width": 0.5
             },
             "pattern": {
              "fillmode": "overlay",
              "size": 10,
              "solidity": 0.2
             }
            },
            "type": "bar"
           }
          ],
          "barpolar": [
           {
            "marker": {
             "line": {
              "color": "#E5ECF6",
              "width": 0.5
             },
             "pattern": {
              "fillmode": "overlay",
              "size": 10,
              "solidity": 0.2
             }
            },
            "type": "barpolar"
           }
          ],
          "carpet": [
           {
            "aaxis": {
             "endlinecolor": "#2a3f5f",
             "gridcolor": "white",
             "linecolor": "white",
             "minorgridcolor": "white",
             "startlinecolor": "#2a3f5f"
            },
            "baxis": {
             "endlinecolor": "#2a3f5f",
             "gridcolor": "white",
             "linecolor": "white",
             "minorgridcolor": "white",
             "startlinecolor": "#2a3f5f"
            },
            "type": "carpet"
           }
          ],
          "choropleth": [
           {
            "colorbar": {
             "outlinewidth": 0,
             "ticks": ""
            },
            "type": "choropleth"
           }
          ],
          "contour": [
           {
            "colorbar": {
             "outlinewidth": 0,
             "ticks": ""
            },
            "colorscale": [
             [
              0,
              "#0d0887"
             ],
             [
              0.1111111111111111,
              "#46039f"
             ],
             [
              0.2222222222222222,
              "#7201a8"
             ],
             [
              0.3333333333333333,
              "#9c179e"
             ],
             [
              0.4444444444444444,
              "#bd3786"
             ],
             [
              0.5555555555555556,
              "#d8576b"
             ],
             [
              0.6666666666666666,
              "#ed7953"
             ],
             [
              0.7777777777777778,
              "#fb9f3a"
             ],
             [
              0.8888888888888888,
              "#fdca26"
             ],
             [
              1,
              "#f0f921"
             ]
            ],
            "type": "contour"
           }
          ],
          "contourcarpet": [
           {
            "colorbar": {
             "outlinewidth": 0,
             "ticks": ""
            },
            "type": "contourcarpet"
           }
          ],
          "heatmap": [
           {
            "colorbar": {
             "outlinewidth": 0,
             "ticks": ""
            },
            "colorscale": [
             [
              0,
              "#0d0887"
             ],
             [
              0.1111111111111111,
              "#46039f"
             ],
             [
              0.2222222222222222,
              "#7201a8"
             ],
             [
              0.3333333333333333,
              "#9c179e"
             ],
             [
              0.4444444444444444,
              "#bd3786"
             ],
             [
              0.5555555555555556,
              "#d8576b"
             ],
             [
              0.6666666666666666,
              "#ed7953"
             ],
             [
              0.7777777777777778,
              "#fb9f3a"
             ],
             [
              0.8888888888888888,
              "#fdca26"
             ],
             [
              1,
              "#f0f921"
             ]
            ],
            "type": "heatmap"
           }
          ],
          "heatmapgl": [
           {
            "colorbar": {
             "outlinewidth": 0,
             "ticks": ""
            },
            "colorscale": [
             [
              0,
              "#0d0887"
             ],
             [
              0.1111111111111111,
              "#46039f"
             ],
             [
              0.2222222222222222,
              "#7201a8"
             ],
             [
              0.3333333333333333,
              "#9c179e"
             ],
             [
              0.4444444444444444,
              "#bd3786"
             ],
             [
              0.5555555555555556,
              "#d8576b"
             ],
             [
              0.6666666666666666,
              "#ed7953"
             ],
             [
              0.7777777777777778,
              "#fb9f3a"
             ],
             [
              0.8888888888888888,
              "#fdca26"
             ],
             [
              1,
              "#f0f921"
             ]
            ],
            "type": "heatmapgl"
           }
          ],
          "histogram": [
           {
            "marker": {
             "pattern": {
              "fillmode": "overlay",
              "size": 10,
              "solidity": 0.2
             }
            },
            "type": "histogram"
           }
          ],
          "histogram2d": [
           {
            "colorbar": {
             "outlinewidth": 0,
             "ticks": ""
            },
            "colorscale": [
             [
              0,
              "#0d0887"
             ],
             [
              0.1111111111111111,
              "#46039f"
             ],
             [
              0.2222222222222222,
              "#7201a8"
             ],
             [
              0.3333333333333333,
              "#9c179e"
             ],
             [
              0.4444444444444444,
              "#bd3786"
             ],
             [
              0.5555555555555556,
              "#d8576b"
             ],
             [
              0.6666666666666666,
              "#ed7953"
             ],
             [
              0.7777777777777778,
              "#fb9f3a"
             ],
             [
              0.8888888888888888,
              "#fdca26"
             ],
             [
              1,
              "#f0f921"
             ]
            ],
            "type": "histogram2d"
           }
          ],
          "histogram2dcontour": [
           {
            "colorbar": {
             "outlinewidth": 0,
             "ticks": ""
            },
            "colorscale": [
             [
              0,
              "#0d0887"
             ],
             [
              0.1111111111111111,
              "#46039f"
             ],
             [
              0.2222222222222222,
              "#7201a8"
             ],
             [
              0.3333333333333333,
              "#9c179e"
             ],
             [
              0.4444444444444444,
              "#bd3786"
             ],
             [
              0.5555555555555556,
              "#d8576b"
             ],
             [
              0.6666666666666666,
              "#ed7953"
             ],
             [
              0.7777777777777778,
              "#fb9f3a"
             ],
             [
              0.8888888888888888,
              "#fdca26"
             ],
             [
              1,
              "#f0f921"
             ]
            ],
            "type": "histogram2dcontour"
           }
          ],
          "mesh3d": [
           {
            "colorbar": {
             "outlinewidth": 0,
             "ticks": ""
            },
            "type": "mesh3d"
           }
          ],
          "parcoords": [
           {
            "line": {
             "colorbar": {
              "outlinewidth": 0,
              "ticks": ""
             }
            },
            "type": "parcoords"
           }
          ],
          "pie": [
           {
            "automargin": true,
            "type": "pie"
           }
          ],
          "scatter": [
           {
            "fillpattern": {
             "fillmode": "overlay",
             "size": 10,
             "solidity": 0.2
            },
            "type": "scatter"
           }
          ],
          "scatter3d": [
           {
            "line": {
             "colorbar": {
              "outlinewidth": 0,
              "ticks": ""
             }
            },
            "marker": {
             "colorbar": {
              "outlinewidth": 0,
              "ticks": ""
             }
            },
            "type": "scatter3d"
           }
          ],
          "scattercarpet": [
           {
            "marker": {
             "colorbar": {
              "outlinewidth": 0,
              "ticks": ""
             }
            },
            "type": "scattercarpet"
           }
          ],
          "scattergeo": [
           {
            "marker": {
             "colorbar": {
              "outlinewidth": 0,
              "ticks": ""
             }
            },
            "type": "scattergeo"
           }
          ],
          "scattergl": [
           {
            "marker": {
             "colorbar": {
              "outlinewidth": 0,
              "ticks": ""
             }
            },
            "type": "scattergl"
           }
          ],
          "scattermapbox": [
           {
            "marker": {
             "colorbar": {
              "outlinewidth": 0,
              "ticks": ""
             }
            },
            "type": "scattermapbox"
           }
          ],
          "scatterpolar": [
           {
            "marker": {
             "colorbar": {
              "outlinewidth": 0,
              "ticks": ""
             }
            },
            "type": "scatterpolar"
           }
          ],
          "scatterpolargl": [
           {
            "marker": {
             "colorbar": {
              "outlinewidth": 0,
              "ticks": ""
             }
            },
            "type": "scatterpolargl"
           }
          ],
          "scatterternary": [
           {
            "marker": {
             "colorbar": {
              "outlinewidth": 0,
              "ticks": ""
             }
            },
            "type": "scatterternary"
           }
          ],
          "surface": [
           {
            "colorbar": {
             "outlinewidth": 0,
             "ticks": ""
            },
            "colorscale": [
             [
              0,
              "#0d0887"
             ],
             [
              0.1111111111111111,
              "#46039f"
             ],
             [
              0.2222222222222222,
              "#7201a8"
             ],
             [
              0.3333333333333333,
              "#9c179e"
             ],
             [
              0.4444444444444444,
              "#bd3786"
             ],
             [
              0.5555555555555556,
              "#d8576b"
             ],
             [
              0.6666666666666666,
              "#ed7953"
             ],
             [
              0.7777777777777778,
              "#fb9f3a"
             ],
             [
              0.8888888888888888,
              "#fdca26"
             ],
             [
              1,
              "#f0f921"
             ]
            ],
            "type": "surface"
           }
          ],
          "table": [
           {
            "cells": {
             "fill": {
              "color": "#EBF0F8"
             },
             "line": {
              "color": "white"
             }
            },
            "header": {
             "fill": {
              "color": "#C8D4E3"
             },
             "line": {
              "color": "white"
             }
            },
            "type": "table"
           }
          ]
         },
         "layout": {
          "annotationdefaults": {
           "arrowcolor": "#2a3f5f",
           "arrowhead": 0,
           "arrowwidth": 1
          },
          "autotypenumbers": "strict",
          "coloraxis": {
           "colorbar": {
            "outlinewidth": 0,
            "ticks": ""
           }
          },
          "colorscale": {
           "diverging": [
            [
             0,
             "#8e0152"
            ],
            [
             0.1,
             "#c51b7d"
            ],
            [
             0.2,
             "#de77ae"
            ],
            [
             0.3,
             "#f1b6da"
            ],
            [
             0.4,
             "#fde0ef"
            ],
            [
             0.5,
             "#f7f7f7"
            ],
            [
             0.6,
             "#e6f5d0"
            ],
            [
             0.7,
             "#b8e186"
            ],
            [
             0.8,
             "#7fbc41"
            ],
            [
             0.9,
             "#4d9221"
            ],
            [
             1,
             "#276419"
            ]
           ],
           "sequential": [
            [
             0,
             "#0d0887"
            ],
            [
             0.1111111111111111,
             "#46039f"
            ],
            [
             0.2222222222222222,
             "#7201a8"
            ],
            [
             0.3333333333333333,
             "#9c179e"
            ],
            [
             0.4444444444444444,
             "#bd3786"
            ],
            [
             0.5555555555555556,
             "#d8576b"
            ],
            [
             0.6666666666666666,
             "#ed7953"
            ],
            [
             0.7777777777777778,
             "#fb9f3a"
            ],
            [
             0.8888888888888888,
             "#fdca26"
            ],
            [
             1,
             "#f0f921"
            ]
           ],
           "sequentialminus": [
            [
             0,
             "#0d0887"
            ],
            [
             0.1111111111111111,
             "#46039f"
            ],
            [
             0.2222222222222222,
             "#7201a8"
            ],
            [
             0.3333333333333333,
             "#9c179e"
            ],
            [
             0.4444444444444444,
             "#bd3786"
            ],
            [
             0.5555555555555556,
             "#d8576b"
            ],
            [
             0.6666666666666666,
             "#ed7953"
            ],
            [
             0.7777777777777778,
             "#fb9f3a"
            ],
            [
             0.8888888888888888,
             "#fdca26"
            ],
            [
             1,
             "#f0f921"
            ]
           ]
          },
          "colorway": [
           "#636efa",
           "#EF553B",
           "#00cc96",
           "#ab63fa",
           "#FFA15A",
           "#19d3f3",
           "#FF6692",
           "#B6E880",
           "#FF97FF",
           "#FECB52"
          ],
          "font": {
           "color": "#2a3f5f"
          },
          "geo": {
           "bgcolor": "white",
           "lakecolor": "white",
           "landcolor": "#E5ECF6",
           "showlakes": true,
           "showland": true,
           "subunitcolor": "white"
          },
          "hoverlabel": {
           "align": "left"
          },
          "hovermode": "closest",
          "mapbox": {
           "style": "light"
          },
          "paper_bgcolor": "white",
          "plot_bgcolor": "#E5ECF6",
          "polar": {
           "angularaxis": {
            "gridcolor": "white",
            "linecolor": "white",
            "ticks": ""
           },
           "bgcolor": "#E5ECF6",
           "radialaxis": {
            "gridcolor": "white",
            "linecolor": "white",
            "ticks": ""
           }
          },
          "scene": {
           "xaxis": {
            "backgroundcolor": "#E5ECF6",
            "gridcolor": "white",
            "gridwidth": 2,
            "linecolor": "white",
            "showbackground": true,
            "ticks": "",
            "zerolinecolor": "white"
           },
           "yaxis": {
            "backgroundcolor": "#E5ECF6",
            "gridcolor": "white",
            "gridwidth": 2,
            "linecolor": "white",
            "showbackground": true,
            "ticks": "",
            "zerolinecolor": "white"
           },
           "zaxis": {
            "backgroundcolor": "#E5ECF6",
            "gridcolor": "white",
            "gridwidth": 2,
            "linecolor": "white",
            "showbackground": true,
            "ticks": "",
            "zerolinecolor": "white"
           }
          },
          "shapedefaults": {
           "line": {
            "color": "#2a3f5f"
           }
          },
          "ternary": {
           "aaxis": {
            "gridcolor": "white",
            "linecolor": "white",
            "ticks": ""
           },
           "baxis": {
            "gridcolor": "white",
            "linecolor": "white",
            "ticks": ""
           },
           "bgcolor": "#E5ECF6",
           "caxis": {
            "gridcolor": "white",
            "linecolor": "white",
            "ticks": ""
           }
          },
          "title": {
           "x": 0.05
          },
          "xaxis": {
           "automargin": true,
           "gridcolor": "white",
           "linecolor": "white",
           "ticks": "",
           "title": {
            "standoff": 15
           },
           "zerolinecolor": "white",
           "zerolinewidth": 2
          },
          "yaxis": {
           "automargin": true,
           "gridcolor": "white",
           "linecolor": "white",
           "ticks": "",
           "title": {
            "standoff": 15
           },
           "zerolinecolor": "white",
           "zerolinewidth": 2
          }
         }
        },
        "title": {
         "text": "Répartition des titres"
        }
       }
      },
      "text/html": [
       "<div>                            <div id=\"e8ab7936-2286-488c-b11d-953d043f9b6a\" class=\"plotly-graph-div\" style=\"height:525px; width:100%;\"></div>            <script type=\"text/javascript\">                require([\"plotly\"], function(Plotly) {                    window.PLOTLYENV=window.PLOTLYENV || {};                                    if (document.getElementById(\"e8ab7936-2286-488c-b11d-953d043f9b6a\")) {                    Plotly.newPlot(                        \"e8ab7936-2286-488c-b11d-953d043f9b6a\",                        [{\"domain\":{\"x\":[0.0,1.0],\"y\":[0.0,1.0]},\"hovertemplate\":\"titleType=%{label}\\u003cbr\\u003eproportion=%{value}\\u003cextra\\u003e\\u003c\\u002fextra\\u003e\",\"labels\":[\"short\",\"movie\"],\"legendgroup\":\"\",\"name\":\"\",\"showlegend\":true,\"values\":[0.579358,0.420642],\"type\":\"pie\"}],                        {\"template\":{\"data\":{\"histogram2dcontour\":[{\"type\":\"histogram2dcontour\",\"colorbar\":{\"outlinewidth\":0,\"ticks\":\"\"},\"colorscale\":[[0.0,\"#0d0887\"],[0.1111111111111111,\"#46039f\"],[0.2222222222222222,\"#7201a8\"],[0.3333333333333333,\"#9c179e\"],[0.4444444444444444,\"#bd3786\"],[0.5555555555555556,\"#d8576b\"],[0.6666666666666666,\"#ed7953\"],[0.7777777777777778,\"#fb9f3a\"],[0.8888888888888888,\"#fdca26\"],[1.0,\"#f0f921\"]]}],\"choropleth\":[{\"type\":\"choropleth\",\"colorbar\":{\"outlinewidth\":0,\"ticks\":\"\"}}],\"histogram2d\":[{\"type\":\"histogram2d\",\"colorbar\":{\"outlinewidth\":0,\"ticks\":\"\"},\"colorscale\":[[0.0,\"#0d0887\"],[0.1111111111111111,\"#46039f\"],[0.2222222222222222,\"#7201a8\"],[0.3333333333333333,\"#9c179e\"],[0.4444444444444444,\"#bd3786\"],[0.5555555555555556,\"#d8576b\"],[0.6666666666666666,\"#ed7953\"],[0.7777777777777778,\"#fb9f3a\"],[0.8888888888888888,\"#fdca26\"],[1.0,\"#f0f921\"]]}],\"heatmap\":[{\"type\":\"heatmap\",\"colorbar\":{\"outlinewidth\":0,\"ticks\":\"\"},\"colorscale\":[[0.0,\"#0d0887\"],[0.1111111111111111,\"#46039f\"],[0.2222222222222222,\"#7201a8\"],[0.3333333333333333,\"#9c179e\"],[0.4444444444444444,\"#bd3786\"],[0.5555555555555556,\"#d8576b\"],[0.6666666666666666,\"#ed7953\"],[0.7777777777777778,\"#fb9f3a\"],[0.8888888888888888,\"#fdca26\"],[1.0,\"#f0f921\"]]}],\"heatmapgl\":[{\"type\":\"heatmapgl\",\"colorbar\":{\"outlinewidth\":0,\"ticks\":\"\"},\"colorscale\":[[0.0,\"#0d0887\"],[0.1111111111111111,\"#46039f\"],[0.2222222222222222,\"#7201a8\"],[0.3333333333333333,\"#9c179e\"],[0.4444444444444444,\"#bd3786\"],[0.5555555555555556,\"#d8576b\"],[0.6666666666666666,\"#ed7953\"],[0.7777777777777778,\"#fb9f3a\"],[0.8888888888888888,\"#fdca26\"],[1.0,\"#f0f921\"]]}],\"contourcarpet\":[{\"type\":\"contourcarpet\",\"colorbar\":{\"outlinewidth\":0,\"ticks\":\"\"}}],\"contour\":[{\"type\":\"contour\",\"colorbar\":{\"outlinewidth\":0,\"ticks\":\"\"},\"colorscale\":[[0.0,\"#0d0887\"],[0.1111111111111111,\"#46039f\"],[0.2222222222222222,\"#7201a8\"],[0.3333333333333333,\"#9c179e\"],[0.4444444444444444,\"#bd3786\"],[0.5555555555555556,\"#d8576b\"],[0.6666666666666666,\"#ed7953\"],[0.7777777777777778,\"#fb9f3a\"],[0.8888888888888888,\"#fdca26\"],[1.0,\"#f0f921\"]]}],\"surface\":[{\"type\":\"surface\",\"colorbar\":{\"outlinewidth\":0,\"ticks\":\"\"},\"colorscale\":[[0.0,\"#0d0887\"],[0.1111111111111111,\"#46039f\"],[0.2222222222222222,\"#7201a8\"],[0.3333333333333333,\"#9c179e\"],[0.4444444444444444,\"#bd3786\"],[0.5555555555555556,\"#d8576b\"],[0.6666666666666666,\"#ed7953\"],[0.7777777777777778,\"#fb9f3a\"],[0.8888888888888888,\"#fdca26\"],[1.0,\"#f0f921\"]]}],\"mesh3d\":[{\"type\":\"mesh3d\",\"colorbar\":{\"outlinewidth\":0,\"ticks\":\"\"}}],\"scatter\":[{\"fillpattern\":{\"fillmode\":\"overlay\",\"size\":10,\"solidity\":0.2},\"type\":\"scatter\"}],\"parcoords\":[{\"type\":\"parcoords\",\"line\":{\"colorbar\":{\"outlinewidth\":0,\"ticks\":\"\"}}}],\"scatterpolargl\":[{\"type\":\"scatterpolargl\",\"marker\":{\"colorbar\":{\"outlinewidth\":0,\"ticks\":\"\"}}}],\"bar\":[{\"error_x\":{\"color\":\"#2a3f5f\"},\"error_y\":{\"color\":\"#2a3f5f\"},\"marker\":{\"line\":{\"color\":\"#E5ECF6\",\"width\":0.5},\"pattern\":{\"fillmode\":\"overlay\",\"size\":10,\"solidity\":0.2}},\"type\":\"bar\"}],\"scattergeo\":[{\"type\":\"scattergeo\",\"marker\":{\"colorbar\":{\"outlinewidth\":0,\"ticks\":\"\"}}}],\"scatterpolar\":[{\"type\":\"scatterpolar\",\"marker\":{\"colorbar\":{\"outlinewidth\":0,\"ticks\":\"\"}}}],\"histogram\":[{\"marker\":{\"pattern\":{\"fillmode\":\"overlay\",\"size\":10,\"solidity\":0.2}},\"type\":\"histogram\"}],\"scattergl\":[{\"type\":\"scattergl\",\"marker\":{\"colorbar\":{\"outlinewidth\":0,\"ticks\":\"\"}}}],\"scatter3d\":[{\"type\":\"scatter3d\",\"line\":{\"colorbar\":{\"outlinewidth\":0,\"ticks\":\"\"}},\"marker\":{\"colorbar\":{\"outlinewidth\":0,\"ticks\":\"\"}}}],\"scattermapbox\":[{\"type\":\"scattermapbox\",\"marker\":{\"colorbar\":{\"outlinewidth\":0,\"ticks\":\"\"}}}],\"scatterternary\":[{\"type\":\"scatterternary\",\"marker\":{\"colorbar\":{\"outlinewidth\":0,\"ticks\":\"\"}}}],\"scattercarpet\":[{\"type\":\"scattercarpet\",\"marker\":{\"colorbar\":{\"outlinewidth\":0,\"ticks\":\"\"}}}],\"carpet\":[{\"aaxis\":{\"endlinecolor\":\"#2a3f5f\",\"gridcolor\":\"white\",\"linecolor\":\"white\",\"minorgridcolor\":\"white\",\"startlinecolor\":\"#2a3f5f\"},\"baxis\":{\"endlinecolor\":\"#2a3f5f\",\"gridcolor\":\"white\",\"linecolor\":\"white\",\"minorgridcolor\":\"white\",\"startlinecolor\":\"#2a3f5f\"},\"type\":\"carpet\"}],\"table\":[{\"cells\":{\"fill\":{\"color\":\"#EBF0F8\"},\"line\":{\"color\":\"white\"}},\"header\":{\"fill\":{\"color\":\"#C8D4E3\"},\"line\":{\"color\":\"white\"}},\"type\":\"table\"}],\"barpolar\":[{\"marker\":{\"line\":{\"color\":\"#E5ECF6\",\"width\":0.5},\"pattern\":{\"fillmode\":\"overlay\",\"size\":10,\"solidity\":0.2}},\"type\":\"barpolar\"}],\"pie\":[{\"automargin\":true,\"type\":\"pie\"}]},\"layout\":{\"autotypenumbers\":\"strict\",\"colorway\":[\"#636efa\",\"#EF553B\",\"#00cc96\",\"#ab63fa\",\"#FFA15A\",\"#19d3f3\",\"#FF6692\",\"#B6E880\",\"#FF97FF\",\"#FECB52\"],\"font\":{\"color\":\"#2a3f5f\"},\"hovermode\":\"closest\",\"hoverlabel\":{\"align\":\"left\"},\"paper_bgcolor\":\"white\",\"plot_bgcolor\":\"#E5ECF6\",\"polar\":{\"bgcolor\":\"#E5ECF6\",\"angularaxis\":{\"gridcolor\":\"white\",\"linecolor\":\"white\",\"ticks\":\"\"},\"radialaxis\":{\"gridcolor\":\"white\",\"linecolor\":\"white\",\"ticks\":\"\"}},\"ternary\":{\"bgcolor\":\"#E5ECF6\",\"aaxis\":{\"gridcolor\":\"white\",\"linecolor\":\"white\",\"ticks\":\"\"},\"baxis\":{\"gridcolor\":\"white\",\"linecolor\":\"white\",\"ticks\":\"\"},\"caxis\":{\"gridcolor\":\"white\",\"linecolor\":\"white\",\"ticks\":\"\"}},\"coloraxis\":{\"colorbar\":{\"outlinewidth\":0,\"ticks\":\"\"}},\"colorscale\":{\"sequential\":[[0.0,\"#0d0887\"],[0.1111111111111111,\"#46039f\"],[0.2222222222222222,\"#7201a8\"],[0.3333333333333333,\"#9c179e\"],[0.4444444444444444,\"#bd3786\"],[0.5555555555555556,\"#d8576b\"],[0.6666666666666666,\"#ed7953\"],[0.7777777777777778,\"#fb9f3a\"],[0.8888888888888888,\"#fdca26\"],[1.0,\"#f0f921\"]],\"sequentialminus\":[[0.0,\"#0d0887\"],[0.1111111111111111,\"#46039f\"],[0.2222222222222222,\"#7201a8\"],[0.3333333333333333,\"#9c179e\"],[0.4444444444444444,\"#bd3786\"],[0.5555555555555556,\"#d8576b\"],[0.6666666666666666,\"#ed7953\"],[0.7777777777777778,\"#fb9f3a\"],[0.8888888888888888,\"#fdca26\"],[1.0,\"#f0f921\"]],\"diverging\":[[0,\"#8e0152\"],[0.1,\"#c51b7d\"],[0.2,\"#de77ae\"],[0.3,\"#f1b6da\"],[0.4,\"#fde0ef\"],[0.5,\"#f7f7f7\"],[0.6,\"#e6f5d0\"],[0.7,\"#b8e186\"],[0.8,\"#7fbc41\"],[0.9,\"#4d9221\"],[1,\"#276419\"]]},\"xaxis\":{\"gridcolor\":\"white\",\"linecolor\":\"white\",\"ticks\":\"\",\"title\":{\"standoff\":15},\"zerolinecolor\":\"white\",\"automargin\":true,\"zerolinewidth\":2},\"yaxis\":{\"gridcolor\":\"white\",\"linecolor\":\"white\",\"ticks\":\"\",\"title\":{\"standoff\":15},\"zerolinecolor\":\"white\",\"automargin\":true,\"zerolinewidth\":2},\"scene\":{\"xaxis\":{\"backgroundcolor\":\"#E5ECF6\",\"gridcolor\":\"white\",\"linecolor\":\"white\",\"showbackground\":true,\"ticks\":\"\",\"zerolinecolor\":\"white\",\"gridwidth\":2},\"yaxis\":{\"backgroundcolor\":\"#E5ECF6\",\"gridcolor\":\"white\",\"linecolor\":\"white\",\"showbackground\":true,\"ticks\":\"\",\"zerolinecolor\":\"white\",\"gridwidth\":2},\"zaxis\":{\"backgroundcolor\":\"#E5ECF6\",\"gridcolor\":\"white\",\"linecolor\":\"white\",\"showbackground\":true,\"ticks\":\"\",\"zerolinecolor\":\"white\",\"gridwidth\":2}},\"shapedefaults\":{\"line\":{\"color\":\"#2a3f5f\"}},\"annotationdefaults\":{\"arrowcolor\":\"#2a3f5f\",\"arrowhead\":0,\"arrowwidth\":1},\"geo\":{\"bgcolor\":\"white\",\"landcolor\":\"#E5ECF6\",\"subunitcolor\":\"white\",\"showland\":true,\"showlakes\":true,\"lakecolor\":\"white\"},\"title\":{\"x\":0.05},\"mapbox\":{\"style\":\"light\"}}},\"legend\":{\"tracegroupgap\":0},\"title\":{\"text\":\"R\\u00e9partition des titres\"}},                        {\"responsive\": true}                    ).then(function(){\n",
       "                            \n",
       "var gd = document.getElementById('e8ab7936-2286-488c-b11d-953d043f9b6a');\n",
       "var x = new MutationObserver(function (mutations, observer) {{\n",
       "        var display = window.getComputedStyle(gd).display;\n",
       "        if (!display || display === 'none') {{\n",
       "            console.log([gd, 'removed!']);\n",
       "            Plotly.purge(gd);\n",
       "            observer.disconnect();\n",
       "        }}\n",
       "}});\n",
       "\n",
       "// Listen for the removal of the full notebook cells\n",
       "var notebookContainer = gd.closest('#notebook-container');\n",
       "if (notebookContainer) {{\n",
       "    x.observe(notebookContainer, {childList: true});\n",
       "}}\n",
       "\n",
       "// Listen for the clearing of the current output cell\n",
       "var outputEl = gd.closest('.output');\n",
       "if (outputEl) {{\n",
       "    x.observe(outputEl, {childList: true});\n",
       "}}\n",
       "\n",
       "                        })                };                });            </script>        </div>"
      ]
     },
     "metadata": {},
     "output_type": "display_data"
    }
   ],
   "source": [
    "data = {'titleType': ['short', 'movie'], 'proportion': [0.579358, 0.420642]}\n",
    "df_proportions = pd.DataFrame(data)\n",
    "\n",
    "# Création du graphique\n",
    "fig = px.pie(df_proportions, values='proportion', names='titleType', \n",
    "             title=\"Répartition des titres\")\n",
    "fig.show()\n"
   ]
  },
  {
   "cell_type": "code",
   "execution_count": 14,
   "id": "ae01586f-c7cf-4845-81a3-c962fb8b9f35",
   "metadata": {},
   "outputs": [
    {
     "data": {
      "text/html": [
       "<div>\n",
       "<style scoped>\n",
       "    .dataframe tbody tr th:only-of-type {\n",
       "        vertical-align: middle;\n",
       "    }\n",
       "\n",
       "    .dataframe tbody tr th {\n",
       "        vertical-align: top;\n",
       "    }\n",
       "\n",
       "    .dataframe thead th {\n",
       "        text-align: right;\n",
       "    }\n",
       "</style>\n",
       "<table border=\"1\" class=\"dataframe\">\n",
       "  <thead>\n",
       "    <tr style=\"text-align: right;\">\n",
       "      <th></th>\n",
       "      <th>tconst</th>\n",
       "      <th>titleType</th>\n",
       "      <th>primaryTitle</th>\n",
       "      <th>originalTitle</th>\n",
       "      <th>isAdult</th>\n",
       "      <th>startYear</th>\n",
       "      <th>endYear</th>\n",
       "      <th>runtimeMinutes</th>\n",
       "      <th>genres</th>\n",
       "    </tr>\n",
       "  </thead>\n",
       "  <tbody>\n",
       "    <tr>\n",
       "      <th>0</th>\n",
       "      <td>tt0000001</td>\n",
       "      <td>short</td>\n",
       "      <td>Carmencita</td>\n",
       "      <td>Carmencita</td>\n",
       "      <td>0</td>\n",
       "      <td>1894</td>\n",
       "      <td>\\N</td>\n",
       "      <td>1</td>\n",
       "      <td>Documentary,Short</td>\n",
       "    </tr>\n",
       "    <tr>\n",
       "      <th>1</th>\n",
       "      <td>tt0000002</td>\n",
       "      <td>short</td>\n",
       "      <td>Le clown et ses chiens</td>\n",
       "      <td>Le clown et ses chiens</td>\n",
       "      <td>0</td>\n",
       "      <td>1892</td>\n",
       "      <td>\\N</td>\n",
       "      <td>5</td>\n",
       "      <td>Animation,Short</td>\n",
       "    </tr>\n",
       "    <tr>\n",
       "      <th>2</th>\n",
       "      <td>tt0000003</td>\n",
       "      <td>short</td>\n",
       "      <td>Poor Pierrot</td>\n",
       "      <td>Pauvre Pierrot</td>\n",
       "      <td>0</td>\n",
       "      <td>1892</td>\n",
       "      <td>\\N</td>\n",
       "      <td>5</td>\n",
       "      <td>Animation,Comedy,Romance</td>\n",
       "    </tr>\n",
       "    <tr>\n",
       "      <th>3</th>\n",
       "      <td>tt0000004</td>\n",
       "      <td>short</td>\n",
       "      <td>Un bon bock</td>\n",
       "      <td>Un bon bock</td>\n",
       "      <td>0</td>\n",
       "      <td>1892</td>\n",
       "      <td>\\N</td>\n",
       "      <td>12</td>\n",
       "      <td>Animation,Short</td>\n",
       "    </tr>\n",
       "    <tr>\n",
       "      <th>4</th>\n",
       "      <td>tt0000005</td>\n",
       "      <td>short</td>\n",
       "      <td>Blacksmith Scene</td>\n",
       "      <td>Blacksmith Scene</td>\n",
       "      <td>0</td>\n",
       "      <td>1893</td>\n",
       "      <td>\\N</td>\n",
       "      <td>1</td>\n",
       "      <td>Short</td>\n",
       "    </tr>\n",
       "  </tbody>\n",
       "</table>\n",
       "</div>"
      ],
      "text/plain": [
       "      tconst titleType            primaryTitle           originalTitle  \\\n",
       "0  tt0000001     short              Carmencita              Carmencita   \n",
       "1  tt0000002     short  Le clown et ses chiens  Le clown et ses chiens   \n",
       "2  tt0000003     short            Poor Pierrot          Pauvre Pierrot   \n",
       "3  tt0000004     short             Un bon bock             Un bon bock   \n",
       "4  tt0000005     short        Blacksmith Scene        Blacksmith Scene   \n",
       "\n",
       "   isAdult startYear endYear runtimeMinutes                    genres  \n",
       "0        0      1894      \\N              1         Documentary,Short  \n",
       "1        0      1892      \\N              5           Animation,Short  \n",
       "2        0      1892      \\N              5  Animation,Comedy,Romance  \n",
       "3        0      1892      \\N             12           Animation,Short  \n",
       "4        0      1893      \\N              1                     Short  "
      ]
     },
     "execution_count": 14,
     "metadata": {},
     "output_type": "execute_result"
    }
   ],
   "source": [
    "df.head()"
   ]
  },
  {
   "cell_type": "code",
   "execution_count": 15,
   "id": "d43eb7d3-fad0-49e1-a475-6c3c03727baf",
   "metadata": {},
   "outputs": [
    {
     "data": {
      "text/plain": [
       "primaryTitle                startYear  runtimeMinutes\n",
       "Mutt and Jeff               1913       \\N                15\n",
       "Hamlet                      1908       \\N                 3\n",
       "Devil Dogs                  1918       \\N                 2\n",
       "Mexican War Pictures        1913       \\N                 2\n",
       "Lena Rivers                 1914       \\N                 2\n",
       "                                                         ..\n",
       "Zaragoza y sus monumentos   1913       10                 1\n",
       "Zaza                        1915       50                 1\n",
       "Zhenshchina vampir          1915       \\N                 1\n",
       "Zhizn trekh dney            1917       \\N                 1\n",
       "!Cuidado con los ladrones!  1919       \\N                 1\n",
       "Name: count, Length: 9971, dtype: int64"
      ]
     },
     "execution_count": 15,
     "metadata": {},
     "output_type": "execute_result"
    }
   ],
   "source": [
    "df[[\"primaryTitle\" , \"startYear\", \"runtimeMinutes\"]].value_counts()"
   ]
  },
  {
   "cell_type": "code",
   "execution_count": 16,
   "id": "677a8a14-4563-44de-8974-bb2219e1327a",
   "metadata": {},
   "outputs": [
    {
     "data": {
      "text/plain": [
       "0       False\n",
       "1       False\n",
       "2       False\n",
       "3       False\n",
       "4       False\n",
       "        ...  \n",
       "9994    False\n",
       "9995    False\n",
       "9996    False\n",
       "9997    False\n",
       "9998    False\n",
       "Name: primaryTitle, Length: 9999, dtype: bool"
      ]
     },
     "execution_count": 16,
     "metadata": {},
     "output_type": "execute_result"
    }
   ],
   "source": [
    "df[\"primaryTitle\"]==\"Mutt and Jeff\""
   ]
  },
  {
   "cell_type": "code",
   "execution_count": 17,
   "id": "b949e6a2-d490-4402-b84a-f358975fdc2c",
   "metadata": {
    "scrolled": true
   },
   "outputs": [
    {
     "name": "stdout",
     "output_type": "stream",
     "text": [
      "\n",
      "Lignes dupliquées :\n",
      "         tconst titleType                     primaryTitle  \\\n",
      "276   tt0000279     short  Buffalo Bill's Wild West Parade   \n",
      "277   tt0000280     short  Buffalo Bill's Wild West Parade   \n",
      "626   tt0000631     short                           Hamlet   \n",
      "939   tt0000950     short                          Macbeth   \n",
      "1230  tt0001242     short                           Hamlet   \n",
      "1287  tt0001299     short                          Macbeth   \n",
      "2378  tt0002405     movie                     Oliver Twist   \n",
      "2379  tt0002406     movie                     Oliver Twist   \n",
      "3110  tt0003139     movie             Mexican War Pictures   \n",
      "3111  tt0003140     movie             Mexican War Pictures   \n",
      "3151  tt0003180     short                    Mutt and Jeff   \n",
      "3152  tt0003181     short                    Mutt and Jeff   \n",
      "3153  tt0003182     short                    Mutt and Jeff   \n",
      "3154  tt0003183     short                    Mutt and Jeff   \n",
      "3155  tt0003184     short                    Mutt and Jeff   \n",
      "3156  tt0003185     short                    Mutt and Jeff   \n",
      "3157  tt0003186     short                    Mutt and Jeff   \n",
      "3158  tt0003187     short                    Mutt and Jeff   \n",
      "3159  tt0003188     short                    Mutt and Jeff   \n",
      "3160  tt0003189     short                    Mutt and Jeff   \n",
      "3161  tt0003190     short                    Mutt and Jeff   \n",
      "3162  tt0003191     short                    Mutt and Jeff   \n",
      "3163  tt0003192     short                    Mutt and Jeff   \n",
      "3164  tt0003193     short                    Mutt and Jeff   \n",
      "3165  tt0003194     short                    Mutt and Jeff   \n",
      "3471  tt0003506     movie           The Vicar of Wakefield   \n",
      "3472  tt0003507     movie           The Vicar of Wakefield   \n",
      "4024  tt0004067     short                    Her Awakening   \n",
      "4025  tt0004068     short                    Her Awakening   \n",
      "4164  tt0004214     movie                      Lena Rivers   \n",
      "4165  tt0004215     movie                      Lena Rivers   \n",
      "9230  tt0009366     movie                     Mexico Today   \n",
      "9231  tt0009367     movie                     Mexico Today   \n",
      "9843  tt0009982     short         Cameraing Through Africa   \n",
      "9844  tt0009983     short         Cameraing Through Africa   \n",
      "\n",
      "                        originalTitle  isAdult startYear endYear  \\\n",
      "276   Buffalo Bill's Wild West Parade        0      1900      \\N   \n",
      "277   Buffalo Bill's Wild West Parade        0      1900      \\N   \n",
      "626                            Amleto        0      1908      \\N   \n",
      "939                           Macbeth        0      1909      \\N   \n",
      "1230                           Hamlet        0      1908      \\N   \n",
      "1287                          Macbeth        0      1909      \\N   \n",
      "2378                     Oliver Twist        0      1912      \\N   \n",
      "2379                     Oliver Twist        0      1912      \\N   \n",
      "3110             Mexican War Pictures        0      1913      \\N   \n",
      "3111             Mexican War Pictures        0      1913      \\N   \n",
      "3151                    Mutt and Jeff        0      1913      \\N   \n",
      "3152                    Mutt and Jeff        0      1913      \\N   \n",
      "3153                    Mutt and Jeff        0      1913      \\N   \n",
      "3154                    Mutt and Jeff        0      1913      \\N   \n",
      "3155                    Mutt and Jeff        0      1913      \\N   \n",
      "3156                    Mutt and Jeff        0      1913      \\N   \n",
      "3157                    Mutt and Jeff        0      1913      \\N   \n",
      "3158                    Mutt and Jeff        0      1913      \\N   \n",
      "3159                    Mutt and Jeff        0      1913      \\N   \n",
      "3160                    Mutt and Jeff        0      1913      \\N   \n",
      "3161                    Mutt and Jeff        0      1913      \\N   \n",
      "3162                    Mutt and Jeff        0      1913      \\N   \n",
      "3163                    Mutt and Jeff        0      1913      \\N   \n",
      "3164                    Mutt and Jeff        0      1913      \\N   \n",
      "3165                    Mutt and Jeff        0      1913      \\N   \n",
      "3471           The Vicar of Wakefield        0      1913      \\N   \n",
      "3472           The Vicar of Wakefield        0      1913      \\N   \n",
      "4024                    Her Awakening        0      1914      \\N   \n",
      "4025                    Her Awakening        0      1914      \\N   \n",
      "4164                      Lena Rivers        0      1914      \\N   \n",
      "4165                      Lena Rivers        0      1914      \\N   \n",
      "9230                     Mexico Today        0      1918      \\N   \n",
      "9231                     Mexico Today        0      1918      \\N   \n",
      "9843         Cameraing Through Africa        0      1919      \\N   \n",
      "9844         Cameraing Through Africa        0      1919      \\N   \n",
      "\n",
      "     runtimeMinutes             genres  \n",
      "276              \\N         News,Short  \n",
      "277              \\N         News,Short  \n",
      "626              \\N        Drama,Short  \n",
      "939              \\N        Drama,Short  \n",
      "1230             \\N        Drama,Short  \n",
      "1287             \\N        Drama,Short  \n",
      "2378             \\N              Drama  \n",
      "2379             \\N              Drama  \n",
      "3110             \\N        Documentary  \n",
      "3111             \\N        Documentary  \n",
      "3151             \\N    Animation,Short  \n",
      "3152             \\N    Animation,Short  \n",
      "3153             \\N    Animation,Short  \n",
      "3154             \\N    Animation,Short  \n",
      "3155             \\N    Animation,Short  \n",
      "3156             \\N    Animation,Short  \n",
      "3157             \\N    Animation,Short  \n",
      "3158             \\N    Animation,Short  \n",
      "3159             \\N    Animation,Short  \n",
      "3160             \\N    Animation,Short  \n",
      "3161             \\N    Animation,Short  \n",
      "3162             \\N    Animation,Short  \n",
      "3163             \\N    Animation,Short  \n",
      "3164             \\N    Animation,Short  \n",
      "3165             \\N    Animation,Short  \n",
      "3471             \\N              Drama  \n",
      "3472             \\N              Drama  \n",
      "4024             \\N        Drama,Short  \n",
      "4025             \\N        Drama,Short  \n",
      "4164             \\N              Drama  \n",
      "4165             \\N              Drama  \n",
      "9230             \\N        Documentary  \n",
      "9231             \\N        Documentary  \n",
      "9843             \\N  Documentary,Short  \n",
      "9844             \\N  Documentary,Short  \n"
     ]
    }
   ],
   "source": [
    "duplicates = df[df[[\"primaryTitle\", \"startYear\", \"runtimeMinutes\", \"genres\"]].duplicated(keep=False)]\n",
    "\n",
    "duplicate_indices = duplicates.index.tolist()\n",
    "\n",
    "print(\"\\nLignes dupliquées :\")\n",
    "print(duplicates)\n"
   ]
  },
  {
   "cell_type": "code",
   "execution_count": 18,
   "id": "96b47e11-390f-403d-b09a-455c13b3b140",
   "metadata": {},
   "outputs": [
    {
     "data": {
      "text/html": [
       "<div>\n",
       "<style scoped>\n",
       "    .dataframe tbody tr th:only-of-type {\n",
       "        vertical-align: middle;\n",
       "    }\n",
       "\n",
       "    .dataframe tbody tr th {\n",
       "        vertical-align: top;\n",
       "    }\n",
       "\n",
       "    .dataframe thead th {\n",
       "        text-align: right;\n",
       "    }\n",
       "</style>\n",
       "<table border=\"1\" class=\"dataframe\">\n",
       "  <thead>\n",
       "    <tr style=\"text-align: right;\">\n",
       "      <th></th>\n",
       "      <th>tconst</th>\n",
       "      <th>titleType</th>\n",
       "      <th>primaryTitle</th>\n",
       "      <th>originalTitle</th>\n",
       "      <th>isAdult</th>\n",
       "      <th>startYear</th>\n",
       "      <th>endYear</th>\n",
       "      <th>runtimeMinutes</th>\n",
       "      <th>genres</th>\n",
       "    </tr>\n",
       "  </thead>\n",
       "  <tbody>\n",
       "    <tr>\n",
       "      <th>0</th>\n",
       "      <td>tt0000001</td>\n",
       "      <td>short</td>\n",
       "      <td>Carmencita</td>\n",
       "      <td>Carmencita</td>\n",
       "      <td>0</td>\n",
       "      <td>1894</td>\n",
       "      <td>\\N</td>\n",
       "      <td>1</td>\n",
       "      <td>Documentary,Short</td>\n",
       "    </tr>\n",
       "    <tr>\n",
       "      <th>1</th>\n",
       "      <td>tt0000002</td>\n",
       "      <td>short</td>\n",
       "      <td>Le clown et ses chiens</td>\n",
       "      <td>Le clown et ses chiens</td>\n",
       "      <td>0</td>\n",
       "      <td>1892</td>\n",
       "      <td>\\N</td>\n",
       "      <td>5</td>\n",
       "      <td>Animation,Short</td>\n",
       "    </tr>\n",
       "    <tr>\n",
       "      <th>2</th>\n",
       "      <td>tt0000003</td>\n",
       "      <td>short</td>\n",
       "      <td>Poor Pierrot</td>\n",
       "      <td>Pauvre Pierrot</td>\n",
       "      <td>0</td>\n",
       "      <td>1892</td>\n",
       "      <td>\\N</td>\n",
       "      <td>5</td>\n",
       "      <td>Animation,Comedy,Romance</td>\n",
       "    </tr>\n",
       "    <tr>\n",
       "      <th>3</th>\n",
       "      <td>tt0000004</td>\n",
       "      <td>short</td>\n",
       "      <td>Un bon bock</td>\n",
       "      <td>Un bon bock</td>\n",
       "      <td>0</td>\n",
       "      <td>1892</td>\n",
       "      <td>\\N</td>\n",
       "      <td>12</td>\n",
       "      <td>Animation,Short</td>\n",
       "    </tr>\n",
       "    <tr>\n",
       "      <th>4</th>\n",
       "      <td>tt0000005</td>\n",
       "      <td>short</td>\n",
       "      <td>Blacksmith Scene</td>\n",
       "      <td>Blacksmith Scene</td>\n",
       "      <td>0</td>\n",
       "      <td>1893</td>\n",
       "      <td>\\N</td>\n",
       "      <td>1</td>\n",
       "      <td>Short</td>\n",
       "    </tr>\n",
       "  </tbody>\n",
       "</table>\n",
       "</div>"
      ],
      "text/plain": [
       "      tconst titleType            primaryTitle           originalTitle  \\\n",
       "0  tt0000001     short              Carmencita              Carmencita   \n",
       "1  tt0000002     short  Le clown et ses chiens  Le clown et ses chiens   \n",
       "2  tt0000003     short            Poor Pierrot          Pauvre Pierrot   \n",
       "3  tt0000004     short             Un bon bock             Un bon bock   \n",
       "4  tt0000005     short        Blacksmith Scene        Blacksmith Scene   \n",
       "\n",
       "   isAdult startYear endYear runtimeMinutes                    genres  \n",
       "0        0      1894      \\N              1         Documentary,Short  \n",
       "1        0      1892      \\N              5           Animation,Short  \n",
       "2        0      1892      \\N              5  Animation,Comedy,Romance  \n",
       "3        0      1892      \\N             12           Animation,Short  \n",
       "4        0      1893      \\N              1                     Short  "
      ]
     },
     "execution_count": 18,
     "metadata": {},
     "output_type": "execute_result"
    }
   ],
   "source": [
    "df = df.drop_duplicates(subset=[\"primaryTitle\", \"startYear\", \"runtimeMinutes\", \"genres\"])\n",
    "df.head()"
   ]
  },
  {
   "cell_type": "code",
   "execution_count": 19,
   "id": "80012555-c2c2-4f3e-a8ce-251f0b7c681b",
   "metadata": {},
   "outputs": [
    {
     "data": {
      "text/plain": [
       "9975"
      ]
     },
     "execution_count": 19,
     "metadata": {},
     "output_type": "execute_result"
    }
   ],
   "source": [
    "df[\"tconst\"].nunique()"
   ]
  },
  {
   "cell_type": "code",
   "execution_count": 34,
   "id": "d79d0cf1-6e21-4eed-9480-ea05ff92d3ee",
   "metadata": {},
   "outputs": [
    {
     "data": {
      "text/plain": [
       "tconst            object\n",
       "titleType         object\n",
       "primaryTitle      object\n",
       "originalTitle     object\n",
       "isAdult            int64\n",
       "startYear         object\n",
       "endYear           object\n",
       "runtimeMinutes    object\n",
       "genres            object\n",
       "dtype: object"
      ]
     },
     "execution_count": 34,
     "metadata": {},
     "output_type": "execute_result"
    }
   ],
   "source": [
    "df.dtypes"
   ]
  },
  {
   "cell_type": "code",
   "execution_count": 47,
   "id": "efbaac27-56df-410e-8933-5d118198aa2d",
   "metadata": {},
   "outputs": [],
   "source": [
    "df['startYear'] = df['startYear'].replace(r'\\\\N', np.nan, regex=True)\n",
    "df['startYear'] = pd.to_numeric(df['startYear'], errors='coerce')\n",
    "df['runtimeMinutes'] = df['runtimeMinutes'].replace(r'\\\\N', np.nan, regex=True)\n",
    "df['runtimeMinutes'] = pd.to_numeric(df['runtimeMinutes'], errors='coerce')"
   ]
  },
  {
   "cell_type": "code",
   "execution_count": 48,
   "id": "f7ebd29b-4770-4e4f-81db-b94c9f21662c",
   "metadata": {},
   "outputs": [],
   "source": [
    "df[\"isAdult\"] = df[\"isAdult\"].astype(bool)\n",
    "df[\"startYear\"] = df[\"startYear\"].astype(float)\n",
    "df[\"runtimeMinutes\"] = df[\"runtimeMinutes\"].astype(float)"
   ]
  },
  {
   "cell_type": "code",
   "execution_count": 49,
   "id": "f8281a92-2dac-4219-9c0a-3b0c0c5cd22b",
   "metadata": {},
   "outputs": [
    {
     "data": {
      "text/plain": [
       "tconst             object\n",
       "titleType          object\n",
       "primaryTitle       object\n",
       "originalTitle      object\n",
       "isAdult              bool\n",
       "startYear         float64\n",
       "endYear            object\n",
       "runtimeMinutes    float64\n",
       "genres             object\n",
       "dtype: object"
      ]
     },
     "execution_count": 49,
     "metadata": {},
     "output_type": "execute_result"
    }
   ],
   "source": [
    "df.dtypes"
   ]
  },
  {
   "cell_type": "code",
   "execution_count": 50,
   "id": "0da9ba96-24c1-43e3-9ab4-8e7898888d2a",
   "metadata": {},
   "outputs": [
    {
     "data": {
      "text/html": [
       "<div>\n",
       "<style scoped>\n",
       "    .dataframe tbody tr th:only-of-type {\n",
       "        vertical-align: middle;\n",
       "    }\n",
       "\n",
       "    .dataframe tbody tr th {\n",
       "        vertical-align: top;\n",
       "    }\n",
       "\n",
       "    .dataframe thead th {\n",
       "        text-align: right;\n",
       "    }\n",
       "</style>\n",
       "<table border=\"1\" class=\"dataframe\">\n",
       "  <thead>\n",
       "    <tr style=\"text-align: right;\">\n",
       "      <th></th>\n",
       "      <th>tconst</th>\n",
       "      <th>titleType</th>\n",
       "      <th>primaryTitle</th>\n",
       "      <th>originalTitle</th>\n",
       "      <th>isAdult</th>\n",
       "      <th>startYear</th>\n",
       "      <th>endYear</th>\n",
       "      <th>runtimeMinutes</th>\n",
       "      <th>genres</th>\n",
       "      <th>liste_genre</th>\n",
       "    </tr>\n",
       "  </thead>\n",
       "  <tbody>\n",
       "    <tr>\n",
       "      <th>0</th>\n",
       "      <td>tt0000001</td>\n",
       "      <td>short</td>\n",
       "      <td>Carmencita</td>\n",
       "      <td>Carmencita</td>\n",
       "      <td>False</td>\n",
       "      <td>1894.0</td>\n",
       "      <td>\\N</td>\n",
       "      <td>1.0</td>\n",
       "      <td>Documentary,Short</td>\n",
       "      <td>[Documentary, Short]</td>\n",
       "    </tr>\n",
       "    <tr>\n",
       "      <th>1</th>\n",
       "      <td>tt0000002</td>\n",
       "      <td>short</td>\n",
       "      <td>Le clown et ses chiens</td>\n",
       "      <td>Le clown et ses chiens</td>\n",
       "      <td>False</td>\n",
       "      <td>1892.0</td>\n",
       "      <td>\\N</td>\n",
       "      <td>5.0</td>\n",
       "      <td>Animation,Short</td>\n",
       "      <td>[Animation, Short]</td>\n",
       "    </tr>\n",
       "    <tr>\n",
       "      <th>2</th>\n",
       "      <td>tt0000003</td>\n",
       "      <td>short</td>\n",
       "      <td>Poor Pierrot</td>\n",
       "      <td>Pauvre Pierrot</td>\n",
       "      <td>False</td>\n",
       "      <td>1892.0</td>\n",
       "      <td>\\N</td>\n",
       "      <td>5.0</td>\n",
       "      <td>Animation,Comedy,Romance</td>\n",
       "      <td>[Animation, Comedy, Romance]</td>\n",
       "    </tr>\n",
       "    <tr>\n",
       "      <th>3</th>\n",
       "      <td>tt0000004</td>\n",
       "      <td>short</td>\n",
       "      <td>Un bon bock</td>\n",
       "      <td>Un bon bock</td>\n",
       "      <td>False</td>\n",
       "      <td>1892.0</td>\n",
       "      <td>\\N</td>\n",
       "      <td>12.0</td>\n",
       "      <td>Animation,Short</td>\n",
       "      <td>[Animation, Short]</td>\n",
       "    </tr>\n",
       "    <tr>\n",
       "      <th>4</th>\n",
       "      <td>tt0000005</td>\n",
       "      <td>short</td>\n",
       "      <td>Blacksmith Scene</td>\n",
       "      <td>Blacksmith Scene</td>\n",
       "      <td>False</td>\n",
       "      <td>1893.0</td>\n",
       "      <td>\\N</td>\n",
       "      <td>1.0</td>\n",
       "      <td>Short</td>\n",
       "      <td>[Short]</td>\n",
       "    </tr>\n",
       "  </tbody>\n",
       "</table>\n",
       "</div>"
      ],
      "text/plain": [
       "      tconst titleType            primaryTitle           originalTitle  \\\n",
       "0  tt0000001     short              Carmencita              Carmencita   \n",
       "1  tt0000002     short  Le clown et ses chiens  Le clown et ses chiens   \n",
       "2  tt0000003     short            Poor Pierrot          Pauvre Pierrot   \n",
       "3  tt0000004     short             Un bon bock             Un bon bock   \n",
       "4  tt0000005     short        Blacksmith Scene        Blacksmith Scene   \n",
       "\n",
       "   isAdult  startYear endYear  runtimeMinutes                    genres  \\\n",
       "0    False     1894.0      \\N             1.0         Documentary,Short   \n",
       "1    False     1892.0      \\N             5.0           Animation,Short   \n",
       "2    False     1892.0      \\N             5.0  Animation,Comedy,Romance   \n",
       "3    False     1892.0      \\N            12.0           Animation,Short   \n",
       "4    False     1893.0      \\N             1.0                     Short   \n",
       "\n",
       "                    liste_genre  \n",
       "0          [Documentary, Short]  \n",
       "1            [Animation, Short]  \n",
       "2  [Animation, Comedy, Romance]  \n",
       "3            [Animation, Short]  \n",
       "4                       [Short]  "
      ]
     },
     "execution_count": 50,
     "metadata": {},
     "output_type": "execute_result"
    }
   ],
   "source": [
    "df['liste_genre'] = df['genres'].str.split(',')\n",
    "df.head()"
   ]
  },
  {
   "cell_type": "code",
   "execution_count": 53,
   "id": "9c33f4fa-94ee-44d5-a61d-b12cf5506d50",
   "metadata": {},
   "outputs": [],
   "source": [
    "count_liste_genre = df[\"liste_genre\"].explode().tolist()"
   ]
  },
  {
   "cell_type": "code",
   "execution_count": 54,
   "id": "b789fd45-4700-484e-82f3-0a4fcc805320",
   "metadata": {},
   "outputs": [
    {
     "data": {
      "text/plain": [
       "Counter({'Short': 5683,\n",
       "         'Drama': 4740,\n",
       "         'Comedy': 2844,\n",
       "         'Western': 828,\n",
       "         'Romance': 728,\n",
       "         '\\\\N': 552,\n",
       "         'Documentary': 384,\n",
       "         'Animation': 379,\n",
       "         'Crime': 372,\n",
       "         'Adventure': 263,\n",
       "         'War': 229,\n",
       "         'Action': 157,\n",
       "         'Fantasy': 153,\n",
       "         'Mystery': 138,\n",
       "         'History': 121,\n",
       "         'Horror': 86,\n",
       "         'Thriller': 72,\n",
       "         'Biography': 49,\n",
       "         'Family': 40,\n",
       "         'Sport': 32,\n",
       "         'Sci-Fi': 28,\n",
       "         'News': 15,\n",
       "         'Music': 12,\n",
       "         'Musical': 2})"
      ]
     },
     "execution_count": 54,
     "metadata": {},
     "output_type": "execute_result"
    }
   ],
   "source": [
    "compte_genre = Counter(count_liste_genre)\n",
    "compte_genre"
   ]
  },
  {
   "cell_type": "code",
   "execution_count": 55,
   "id": "3d28bab5-b34c-4e59-a674-1e3ebc91b9d2",
   "metadata": {},
   "outputs": [
    {
     "data": {
      "text/plain": [
       "1       1892.0\n",
       "2       1892.0\n",
       "3       1892.0\n",
       "4       1893.0\n",
       "0       1894.0\n",
       "         ...  \n",
       "5856    1925.0\n",
       "3816    1936.0\n",
       "965     1990.0\n",
       "919     1990.0\n",
       "619        NaN\n",
       "Name: startYear, Length: 9975, dtype: float64"
      ]
     },
     "execution_count": 55,
     "metadata": {},
     "output_type": "execute_result"
    }
   ],
   "source": [
    "df[\"startYear\"].sort_values(ascending =True)"
   ]
  },
  {
   "cell_type": "code",
   "execution_count": 56,
   "id": "d5fe3a77-8299-4a30-a14f-47c3b03cc091",
   "metadata": {},
   "outputs": [
    {
     "data": {
      "text/plain": [
       "919     1990.0\n",
       "965     1990.0\n",
       "3816    1936.0\n",
       "5013    1925.0\n",
       "5793    1925.0\n",
       "         ...  \n",
       "4       1893.0\n",
       "2       1892.0\n",
       "1       1892.0\n",
       "3       1892.0\n",
       "619        NaN\n",
       "Name: startYear, Length: 9975, dtype: float64"
      ]
     },
     "execution_count": 56,
     "metadata": {},
     "output_type": "execute_result"
    }
   ],
   "source": [
    "df[\"startYear\"].sort_values(ascending =False)"
   ]
  },
  {
   "cell_type": "code",
   "execution_count": 57,
   "id": "dc565a08-9c53-4a72-9204-bb951fff4c80",
   "metadata": {},
   "outputs": [
    {
     "data": {
      "text/plain": [
       "0       1.0\n",
       "147     1.0\n",
       "28      1.0\n",
       "29      1.0\n",
       "30      1.0\n",
       "       ... \n",
       "9976    NaN\n",
       "9978    NaN\n",
       "9994    NaN\n",
       "9995    NaN\n",
       "9998    NaN\n",
       "Name: runtimeMinutes, Length: 9975, dtype: float64"
      ]
     },
     "execution_count": 57,
     "metadata": {},
     "output_type": "execute_result"
    }
   ],
   "source": [
    "df[\"runtimeMinutes\"].sort_values(ascending =True)"
   ]
  },
  {
   "cell_type": "code",
   "execution_count": 58,
   "id": "0834e552-dfeb-49b2-91e4-b92f827f2051",
   "metadata": {},
   "outputs": [
    {
     "data": {
      "text/plain": [
       "4009    1428.0\n",
       "8901     600.0\n",
       "9766     489.0\n",
       "8350     480.0\n",
       "8170     460.0\n",
       "         ...  \n",
       "9976       NaN\n",
       "9978       NaN\n",
       "9994       NaN\n",
       "9995       NaN\n",
       "9998       NaN\n",
       "Name: runtimeMinutes, Length: 9975, dtype: float64"
      ]
     },
     "execution_count": 58,
     "metadata": {},
     "output_type": "execute_result"
    }
   ],
   "source": [
    "df[\"runtimeMinutes\"].sort_values(ascending =False)"
   ]
  },
  {
   "cell_type": "code",
   "execution_count": 59,
   "id": "261e1f30-c58b-47b8-bbe6-fc1012363af5",
   "metadata": {},
   "outputs": [
    {
     "data": {
      "text/plain": [
       "tconst                   tt0004073\n",
       "titleType                    short\n",
       "primaryTitle      Her First Lesson\n",
       "originalTitle     Her First Lesson\n",
       "isAdult                      False\n",
       "startYear                   1914.0\n",
       "endYear                         \\N\n",
       "runtimeMinutes                 NaN\n",
       "genres                Comedy,Short\n",
       "liste_genre        [Comedy, Short]\n",
       "Name: 4030, dtype: object"
      ]
     },
     "execution_count": 59,
     "metadata": {},
     "output_type": "execute_result"
    }
   ],
   "source": [
    "df.iloc[4009]"
   ]
  },
  {
   "cell_type": "code",
   "execution_count": 60,
   "id": "95c57e78-d4ac-4d7c-9e9a-39339c92b945",
   "metadata": {},
   "outputs": [
    {
     "data": {
      "text/plain": [
       "tconst               tt0009052\n",
       "titleType                movie\n",
       "primaryTitle      Fallen Angel\n",
       "originalTitle     Fallen Angel\n",
       "isAdult                  False\n",
       "startYear               1918.0\n",
       "endYear                     \\N\n",
       "runtimeMinutes            50.0\n",
       "genres                   Drama\n",
       "liste_genre            [Drama]\n",
       "Name: 8923, dtype: object"
      ]
     },
     "execution_count": 60,
     "metadata": {},
     "output_type": "execute_result"
    }
   ],
   "source": [
    "df.iloc[8901]"
   ]
  },
  {
   "cell_type": "code",
   "execution_count": null,
   "id": "cfac3908-810b-431b-9fa4-488e28c70172",
   "metadata": {},
   "outputs": [],
   "source": [
    "# des erreurs au niveau des runtimeminutes... "
   ]
  },
  {
   "cell_type": "code",
   "execution_count": null,
   "id": "067ae7cc-3aec-4978-a31b-6c302cc9151c",
   "metadata": {},
   "outputs": [],
   "source": []
  }
 ],
 "metadata": {
  "kernelspec": {
   "display_name": "Python 3 (ipykernel)",
   "language": "python",
   "name": "python3"
  },
  "language_info": {
   "codemirror_mode": {
    "name": "ipython",
    "version": 3
   },
   "file_extension": ".py",
   "mimetype": "text/x-python",
   "name": "python",
   "nbconvert_exporter": "python",
   "pygments_lexer": "ipython3",
   "version": "3.12.5"
  }
 },
 "nbformat": 4,
 "nbformat_minor": 5
}
