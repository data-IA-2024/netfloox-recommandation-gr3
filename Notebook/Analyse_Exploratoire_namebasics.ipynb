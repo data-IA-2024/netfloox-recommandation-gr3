{
 "cells": [
  {
   "cell_type": "code",
   "execution_count": 6,
   "id": "305c9a64-1143-4ae0-953a-0d4042674811",
   "metadata": {},
   "outputs": [],
   "source": [
    "import pandas as pd"
   ]
  },
  {
   "cell_type": "code",
   "execution_count": 10,
   "id": "85d84cf9-2f99-40e4-b699-78ed7dea96c2",
   "metadata": {},
   "outputs": [],
   "source": [
    "datafolder = '../data/data-10k/'"
   ]
  },
  {
   "cell_type": "code",
   "execution_count": 14,
   "id": "fe6b2c84-4ed5-45d4-bf68-19a5f76074c3",
   "metadata": {},
   "outputs": [],
   "source": [
    "name_basics= 'name.basics-10k.tsv'"
   ]
  },
  {
   "cell_type": "code",
   "execution_count": 16,
   "id": "29a9f499-a547-409d-8f92-b39ec6be6186",
   "metadata": {},
   "outputs": [],
   "source": [
    "df_namebasics = pd.read_csv(datafolder + name_basics, sep='\\t', quoting = 3)"
   ]
  },
  {
   "cell_type": "code",
   "execution_count": 18,
   "id": "ee9f33cc-bdcf-4faa-8564-58ec51f65fc9",
   "metadata": {},
   "outputs": [
    {
     "data": {
      "text/html": [
       "<div>\n",
       "<style scoped>\n",
       "    .dataframe tbody tr th:only-of-type {\n",
       "        vertical-align: middle;\n",
       "    }\n",
       "\n",
       "    .dataframe tbody tr th {\n",
       "        vertical-align: top;\n",
       "    }\n",
       "\n",
       "    .dataframe thead th {\n",
       "        text-align: right;\n",
       "    }\n",
       "</style>\n",
       "<table border=\"1\" class=\"dataframe\">\n",
       "  <thead>\n",
       "    <tr style=\"text-align: right;\">\n",
       "      <th></th>\n",
       "      <th>nconst</th>\n",
       "      <th>primaryName</th>\n",
       "      <th>birthYear</th>\n",
       "      <th>deathYear</th>\n",
       "      <th>primaryProfession</th>\n",
       "      <th>knownForTitles</th>\n",
       "    </tr>\n",
       "  </thead>\n",
       "  <tbody>\n",
       "    <tr>\n",
       "      <th>0</th>\n",
       "      <td>nm0000001</td>\n",
       "      <td>Fred Astaire</td>\n",
       "      <td>1899</td>\n",
       "      <td>1987</td>\n",
       "      <td>actor,miscellaneous,producer</td>\n",
       "      <td>tt0072308,tt0050419,tt0053137,tt0027125</td>\n",
       "    </tr>\n",
       "    <tr>\n",
       "      <th>1</th>\n",
       "      <td>nm0000002</td>\n",
       "      <td>Lauren Bacall</td>\n",
       "      <td>1924</td>\n",
       "      <td>2014</td>\n",
       "      <td>actress,soundtrack,archive_footage</td>\n",
       "      <td>tt0037382,tt0075213,tt0117057,tt0038355</td>\n",
       "    </tr>\n",
       "    <tr>\n",
       "      <th>2</th>\n",
       "      <td>nm0000003</td>\n",
       "      <td>Brigitte Bardot</td>\n",
       "      <td>1934</td>\n",
       "      <td>\\N</td>\n",
       "      <td>actress,music_department,producer</td>\n",
       "      <td>tt0057345,tt0049189,tt0056404,tt0054452</td>\n",
       "    </tr>\n",
       "    <tr>\n",
       "      <th>3</th>\n",
       "      <td>nm0000004</td>\n",
       "      <td>John Belushi</td>\n",
       "      <td>1949</td>\n",
       "      <td>1982</td>\n",
       "      <td>actor,writer,music_department</td>\n",
       "      <td>tt0072562,tt0077975,tt0080455,tt0078723</td>\n",
       "    </tr>\n",
       "    <tr>\n",
       "      <th>4</th>\n",
       "      <td>nm0000005</td>\n",
       "      <td>Ingmar Bergman</td>\n",
       "      <td>1918</td>\n",
       "      <td>2007</td>\n",
       "      <td>writer,director,actor</td>\n",
       "      <td>tt0050986,tt0083922,tt0069467,tt0050976</td>\n",
       "    </tr>\n",
       "  </tbody>\n",
       "</table>\n",
       "</div>"
      ],
      "text/plain": [
       "      nconst      primaryName birthYear deathYear  \\\n",
       "0  nm0000001     Fred Astaire      1899      1987   \n",
       "1  nm0000002    Lauren Bacall      1924      2014   \n",
       "2  nm0000003  Brigitte Bardot      1934        \\N   \n",
       "3  nm0000004     John Belushi      1949      1982   \n",
       "4  nm0000005   Ingmar Bergman      1918      2007   \n",
       "\n",
       "                    primaryProfession                           knownForTitles  \n",
       "0        actor,miscellaneous,producer  tt0072308,tt0050419,tt0053137,tt0027125  \n",
       "1  actress,soundtrack,archive_footage  tt0037382,tt0075213,tt0117057,tt0038355  \n",
       "2   actress,music_department,producer  tt0057345,tt0049189,tt0056404,tt0054452  \n",
       "3       actor,writer,music_department  tt0072562,tt0077975,tt0080455,tt0078723  \n",
       "4               writer,director,actor  tt0050986,tt0083922,tt0069467,tt0050976  "
      ]
     },
     "execution_count": 18,
     "metadata": {},
     "output_type": "execute_result"
    }
   ],
   "source": [
    "df_namebasics.head()"
   ]
  },
  {
   "cell_type": "code",
   "execution_count": null,
   "id": "c4f7c4f6-8466-49f6-9227-2d0b7d7d02e9",
   "metadata": {},
   "outputs": [],
   "source": []
  }
 ],
 "metadata": {
  "kernelspec": {
   "display_name": "Python 3 (ipykernel)",
   "language": "python",
   "name": "python3"
  },
  "language_info": {
   "codemirror_mode": {
    "name": "ipython",
    "version": 3
   },
   "file_extension": ".py",
   "mimetype": "text/x-python",
   "name": "python",
   "nbconvert_exporter": "python",
   "pygments_lexer": "ipython3",
   "version": "3.12.7"
  }
 },
 "nbformat": 4,
 "nbformat_minor": 5
}
