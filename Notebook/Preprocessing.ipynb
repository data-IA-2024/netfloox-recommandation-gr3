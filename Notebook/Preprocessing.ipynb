{
 "cells": [
  {
   "cell_type": "markdown",
   "id": "90d5a000-34ad-483d-b1c9-d6a970dd5927",
   "metadata": {},
   "source": [
    "# Import des bibliothèques"
   ]
  },
  {
   "cell_type": "code",
   "execution_count": 1,
   "id": "3ff15597-2ac7-49e8-9e7a-cd8c9b3458b2",
   "metadata": {},
   "outputs": [
    {
     "ename": "ModuleNotFoundError",
     "evalue": "No module named 'unidecode'",
     "output_type": "error",
     "traceback": [
      "\u001b[1;31m---------------------------------------------------------------------------\u001b[0m",
      "\u001b[1;31mModuleNotFoundError\u001b[0m                       Traceback (most recent call last)",
      "Cell \u001b[1;32mIn[1], line 4\u001b[0m\n\u001b[0;32m      2\u001b[0m \u001b[38;5;28;01mimport\u001b[39;00m\u001b[38;5;250m \u001b[39m\u001b[38;5;21;01mnumpy\u001b[39;00m\u001b[38;5;250m \u001b[39m\u001b[38;5;28;01mas\u001b[39;00m\u001b[38;5;250m \u001b[39m\u001b[38;5;21;01mnp\u001b[39;00m\n\u001b[0;32m      3\u001b[0m \u001b[38;5;28;01mfrom\u001b[39;00m\u001b[38;5;250m \u001b[39m\u001b[38;5;21;01mcollections\u001b[39;00m\u001b[38;5;250m \u001b[39m\u001b[38;5;28;01mimport\u001b[39;00m Counter\n\u001b[1;32m----> 4\u001b[0m \u001b[38;5;28;01mfrom\u001b[39;00m\u001b[38;5;250m \u001b[39m\u001b[38;5;21;01munidecode\u001b[39;00m\u001b[38;5;250m \u001b[39m\u001b[38;5;28;01mimport\u001b[39;00m unidecode\n",
      "\u001b[1;31mModuleNotFoundError\u001b[0m: No module named 'unidecode'"
     ]
    }
   ],
   "source": [
    "import pandas as pd\n",
    "import numpy as np\n",
    "from collections import Counter\n",
    "from unidecode import unidecode"
   ]
  },
  {
   "cell_type": "markdown",
   "id": "5778522e-8f72-441a-ad4f-67ad147a545a",
   "metadata": {},
   "source": [
    "# Chargement des Dataframes"
   ]
  },
  {
   "cell_type": "code",
   "execution_count": null,
   "id": "b486d235-ff9c-48a4-9a2a-9e757cb3167d",
   "metadata": {},
   "outputs": [],
   "source": [
    "datafolder = '../data/data-10k/'"
   ]
  },
  {
   "cell_type": "code",
   "execution_count": null,
   "id": "e5c40225-1821-448d-a5a1-544ac9ddc11d",
   "metadata": {},
   "outputs": [],
   "source": [
    "titlebasics= 'title.basics-10k.tsv'\n",
    "titlecrew= 'title.crew-10k.tsv'\n",
    "titleratings = 'title.ratings-10k.tsv'\n",
    "namebasics = 'name.basics-10k.tsv'"
   ]
  },
  {
   "cell_type": "code",
   "execution_count": null,
   "id": "60184c1f-3458-4f32-bcf9-1013a02e372e",
   "metadata": {},
   "outputs": [],
   "source": [
    "df_titlebasics= pd.read_csv(datafolder + titlebasics, sep='\\t', quoting = 3)\n",
    "df_titlecrew= pd.read_csv(datafolder + titlecrew, sep='\\t', quoting = 3)\n",
    "df_titleratings= pd.read_csv(datafolder + titleratings, sep='\\t', quoting = 3)\n",
    "df_namebasics= pd.read_csv(datafolder + namebasics, sep='\\t', quoting = 3)"
   ]
  },
  {
   "cell_type": "code",
   "execution_count": null,
   "id": "4b9ccd8e-d2b1-4475-b1e8-4481c1abceb0",
   "metadata": {},
   "outputs": [],
   "source": [
    "df_titlebasics.head()"
   ]
  },
  {
   "cell_type": "code",
   "execution_count": null,
   "id": "1d3cd7dd-c57b-4018-9019-630f5b2dbde7",
   "metadata": {},
   "outputs": [],
   "source": [
    "df_titlecrew.head()"
   ]
  },
  {
   "cell_type": "code",
   "execution_count": null,
   "id": "d59763b5-05b9-496f-a73d-507be1723d24",
   "metadata": {},
   "outputs": [],
   "source": [
    "df_titleratings.head()"
   ]
  },
  {
   "cell_type": "code",
   "execution_count": null,
   "id": "26a9bd5a-0eb4-494f-8426-ea694fe4e1ab",
   "metadata": {},
   "outputs": [],
   "source": [
    "df_namebasics.head()"
   ]
  },
  {
   "cell_type": "code",
   "execution_count": null,
   "id": "f3937ce9-64c8-47ff-8a82-fc3e67859a5b",
   "metadata": {},
   "outputs": [],
   "source": []
  }
 ],
 "metadata": {
  "kernelspec": {
   "display_name": "Python 3 (ipykernel)",
   "language": "python",
   "name": "python3"
  },
  "language_info": {
   "codemirror_mode": {
    "name": "ipython",
    "version": 3
   },
   "file_extension": ".py",
   "mimetype": "text/x-python",
   "name": "python",
   "nbconvert_exporter": "python",
   "pygments_lexer": "ipython3",
   "version": "3.13.1"
  }
 },
 "nbformat": 4,
 "nbformat_minor": 5
}
